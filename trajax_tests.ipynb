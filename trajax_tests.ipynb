{
 "cells": [
  {
   "cell_type": "code",
   "execution_count": 2,
   "metadata": {},
   "outputs": [
    {
     "name": "stderr",
     "output_type": "stream",
     "text": [
      "/home/jannik/miniconda3/lib/python3.10/site-packages/jax/_src/api_util.py:188: SyntaxWarning: Jitted function has static_argnums=(0, 1, 9), but only accepts 8 positional arguments. This warning will be replaced by an error after 2022-08-20 at the earliest.\n",
      "  warnings.warn(f\"Jitted function has {argnums_name}={argnums}, \"\n"
     ]
    }
   ],
   "source": [
    "import jax\n",
    "import jax.numpy as jnp\n",
    "from trajax import optimizers"
   ]
  },
  {
   "cell_type": "code",
   "execution_count": 3,
   "metadata": {},
   "outputs": [],
   "source": [
    "dt = 0.1\n",
    "horizon = 10\n",
    "\n",
    "@jax.jit\n",
    "def system(x, u, t):\n",
    "  \"\"\"Classic (omnidirectional) wheeled robot system.\n",
    "  Args:\n",
    "    x: state, (3, ) array\n",
    "    u: control, (3, ) array\n",
    "    t: scalar time\n",
    "  Returns:\n",
    "    xdot: state time derivative, (3, )\n",
    "  \"\"\"\n",
    "  c = jnp.cos(x[2])\n",
    "  s = jnp.sin(x[2])\n",
    "  \n",
    "  A = jnp.array([[c, -s, 0],\n",
    "                 [s, c, 0],\n",
    "                 [0, 0, 1]])\n",
    "  xdot = A @ u\n",
    "\n",
    "  return xdot\n",
    "\n",
    "def dynamics(x, u, t):\n",
    "  return x + dt * system(x, u, t)"
   ]
  },
  {
   "cell_type": "code",
   "execution_count": 50,
   "metadata": {},
   "outputs": [
    {
     "name": "stdout",
     "output_type": "stream",
     "text": [
      "<class 'jaxlib.xla_extension.ArrayImpl'>\n"
     ]
    }
   ],
   "source": [
    "def cost(x, u, t, *args):  \n",
    "  u_x_err = 0.4 - u[0]\n",
    "  \n",
    "  stage_cost = jnp.dot(jnp.concatenate([x,u]), jnp.dot(P, jnp.concatenate([x,u]))) + jnp.dot(q, jnp.concatenate([x,u])) + jnp.dot(u_x_err, u_x_err) + jnp.dot(u,u)\n",
    "  \n",
    "  # final_cost = 0\n",
    "  # return jnp.where(t == horizon, final_cost, stage_cost)\n",
    "  return stage_cost\n",
    "\n",
    "\n",
    "x0 = jnp.array([0.0, 0.0, 0.0])\n",
    "u0 = jnp.zeros((horizon, 3))\n",
    "P = jnp.ones((6,6))\n",
    "q = jnp.ones(6)\n",
    "\n",
    "X, U, obj, _, _, _, iteration = optimizers.ilqr(\n",
    "        cost,\n",
    "        dynamics,\n",
    "        x0,\n",
    "        u0,\n",
    "        maxiter=1000\n",
    "    ) \n",
    "\n",
    "print(type(U))"
   ]
  },
  {
   "cell_type": "code",
   "execution_count": 39,
   "metadata": {},
   "outputs": [],
   "source": [
    "def cost(x, u, t, embedding):  \n",
    "  P = embedding[:36]\n",
    "  q = embedding[36:]\n",
    "  P = jnp.reshape(P, (6,6))\n",
    "  \n",
    "  u_x_err = 0.4 - u[0]\n",
    "  \n",
    "  stage_cost = jnp.dot(jnp.concatenate([x,u]), jnp.dot(P, jnp.concatenate([x,u]))) + jnp.dot(q, jnp.concatenate([x,u])) + jnp.dot(u_x_err, u_x_err) + jnp.dot(u,u)\n",
    "  \n",
    "  # final_cost = 0\n",
    "  # return jnp.where(t == horizon, final_cost, stage_cost)\n",
    "  return stage_cost\n"
   ]
  },
  {
   "cell_type": "code",
   "execution_count": 47,
   "metadata": {},
   "outputs": [
    {
     "data": {
      "text/plain": [
       "Array([[0., 0., 0., ..., 0., 0., 0.],\n",
       "       [0., 0., 0., ..., 0., 0., 0.],\n",
       "       [0., 0., 0., ..., 0., 0., 0.],\n",
       "       ...,\n",
       "       [0., 0., 0., ..., 0., 0., 0.],\n",
       "       [0., 0., 0., ..., 0., 0., 0.],\n",
       "       [0., 0., 0., ..., 0., 0., 0.]], dtype=float32)"
      ]
     },
     "execution_count": 47,
     "metadata": {},
     "output_type": "execute_result"
    }
   ],
   "source": [
    "hessian = jax.hessian(cost, argnums=3)\n",
    "\n",
    "hessian(jnp.ones(3), jnp.ones(3), 0, jnp.ones(42))"
   ]
  }
 ],
 "metadata": {
  "kernelspec": {
   "display_name": "base",
   "language": "python",
   "name": "python3"
  },
  "language_info": {
   "codemirror_mode": {
    "name": "ipython",
    "version": 3
   },
   "file_extension": ".py",
   "mimetype": "text/x-python",
   "name": "python",
   "nbconvert_exporter": "python",
   "pygments_lexer": "ipython3",
   "version": "3.10.8"
  },
  "orig_nbformat": 4
 },
 "nbformat": 4,
 "nbformat_minor": 2
}
