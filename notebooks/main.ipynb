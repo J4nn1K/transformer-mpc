{
 "cells": [
  {
   "cell_type": "code",
   "execution_count": 1,
   "metadata": {},
   "outputs": [],
   "source": [
    "from src.config import config"
   ]
  },
  {
   "cell_type": "code",
   "execution_count": 2,
   "metadata": {},
   "outputs": [],
   "source": [
    "from src.input_pipeline import create_dataloaders\n",
    "\n",
    "train_loader, val_loader = create_dataloaders()"
   ]
  },
  {
   "cell_type": "code",
   "execution_count": 3,
   "metadata": {},
   "outputs": [
    {
     "name": "stderr",
     "output_type": "stream",
     "text": [
      "/home/jannik/miniconda3/lib/python3.10/site-packages/jax/_src/api_util.py:190: SyntaxWarning: Jitted function has static_argnums=(0, 1, 9), but only accepts 8 positional arguments. This warning will be replaced by an error after 2022-08-20 at the earliest.\n",
      "  warnings.warn(f\"Jitted function has {argnums_name}={argnums}, \"\n"
     ]
    }
   ],
   "source": [
    "from src.models import MPCTransformer\n",
    "model_config = config['model']\n",
    "\n",
    "model = MPCTransformer(**model_config)"
   ]
  },
  {
   "cell_type": "code",
   "execution_count": 4,
   "metadata": {},
   "outputs": [
    {
     "name": "stderr",
     "output_type": "stream",
     "text": [
      "No GPU/TPU found, falling back to CPU. (Set TF_CPP_MIN_LOG_LEVEL=0 and rerun for more info.)\n",
      "100%|██████████| 252/252 [01:00<00:00,  4.14it/s, train_loss=0.009923195] \n",
      "100%|██████████| 64/64 [00:04<00:00, 15.79it/s, val_loss=0.008367277] \n"
     ]
    },
    {
     "name": "stdout",
     "output_type": "stream",
     "text": [
      "Epoch: 0, Loss: 0.009923194535076618, Loss: 0.00836727675050497, \n"
     ]
    },
    {
     "name": "stderr",
     "output_type": "stream",
     "text": [
      "100%|██████████| 252/252 [00:46<00:00,  5.42it/s, train_loss=0.0071375747]\n",
      "100%|██████████| 64/64 [00:04<00:00, 14.43it/s, val_loss=0.0070396964]\n"
     ]
    },
    {
     "name": "stdout",
     "output_type": "stream",
     "text": [
      "Epoch: 1, Loss: 0.0071375747211277485, Loss: 0.00703969644382596, \n"
     ]
    },
    {
     "name": "stderr",
     "output_type": "stream",
     "text": [
      "100%|██████████| 252/252 [00:45<00:00,  5.56it/s, train_loss=0.0063469517]\n",
      "100%|██████████| 64/64 [00:04<00:00, 15.31it/s, val_loss=0.006335999] \n"
     ]
    },
    {
     "name": "stdout",
     "output_type": "stream",
     "text": [
      "Epoch: 2, Loss: 0.006346951704472303, Loss: 0.006335998885333538, \n"
     ]
    },
    {
     "name": "stderr",
     "output_type": "stream",
     "text": [
      "100%|██████████| 252/252 [00:44<00:00,  5.60it/s, train_loss=0.005836629] \n",
      "100%|██████████| 64/64 [00:04<00:00, 14.29it/s, val_loss=0.0057847346]\n"
     ]
    },
    {
     "name": "stdout",
     "output_type": "stream",
     "text": [
      "Epoch: 3, Loss: 0.005836628843098879, Loss: 0.00578473461791873, \n"
     ]
    },
    {
     "name": "stderr",
     "output_type": "stream",
     "text": [
      "100%|██████████| 252/252 [00:47<00:00,  5.35it/s, train_loss=0.005417679] \n",
      "100%|██████████| 64/64 [00:04<00:00, 15.96it/s, val_loss=0.005307721] \n"
     ]
    },
    {
     "name": "stdout",
     "output_type": "stream",
     "text": [
      "Epoch: 4, Loss: 0.0054176789708435535, Loss: 0.005307720974087715, \n"
     ]
    },
    {
     "name": "stderr",
     "output_type": "stream",
     "text": [
      "100%|██████████| 252/252 [00:47<00:00,  5.32it/s, train_loss=0.0050660446]\n",
      "100%|██████████| 64/64 [00:04<00:00, 14.63it/s, val_loss=0.0049153534]\n"
     ]
    },
    {
     "name": "stdout",
     "output_type": "stream",
     "text": [
      "Epoch: 5, Loss: 0.005066044628620148, Loss: 0.004915353376418352, \n"
     ]
    },
    {
     "name": "stderr",
     "output_type": "stream",
     "text": [
      "100%|██████████| 252/252 [00:47<00:00,  5.36it/s, train_loss=0.0047854837]\n",
      "100%|██████████| 64/64 [00:03<00:00, 16.42it/s, val_loss=0.004603392] \n"
     ]
    },
    {
     "name": "stdout",
     "output_type": "stream",
     "text": [
      "Epoch: 6, Loss: 0.004785483703017235, Loss: 0.004603391978889704, \n"
     ]
    },
    {
     "name": "stderr",
     "output_type": "stream",
     "text": [
      "100%|██████████| 252/252 [00:46<00:00,  5.43it/s, train_loss=0.004572149] \n",
      "100%|██████████| 64/64 [00:04<00:00, 15.59it/s, val_loss=0.0043519386]\n"
     ]
    },
    {
     "name": "stdout",
     "output_type": "stream",
     "text": [
      "Epoch: 7, Loss: 0.004572148900479078, Loss: 0.004351938609033823, \n"
     ]
    },
    {
     "name": "stderr",
     "output_type": "stream",
     "text": [
      "100%|██████████| 252/252 [00:46<00:00,  5.41it/s, train_loss=0.0044116653]\n",
      "100%|██████████| 64/64 [00:03<00:00, 16.87it/s, val_loss=0.0041544596]\n"
     ]
    },
    {
     "name": "stdout",
     "output_type": "stream",
     "text": [
      "Epoch: 8, Loss: 0.004411665257066488, Loss: 0.004154459573328495, \n"
     ]
    },
    {
     "name": "stderr",
     "output_type": "stream",
     "text": [
      "100%|██████████| 252/252 [00:43<00:00,  5.77it/s, train_loss=0.004286675] \n",
      "100%|██████████| 64/64 [00:04<00:00, 15.49it/s, val_loss=0.004009165] \n"
     ]
    },
    {
     "name": "stdout",
     "output_type": "stream",
     "text": [
      "Epoch: 9, Loss: 0.004286674782633781, Loss: 0.004009164869785309, \n"
     ]
    },
    {
     "name": "stderr",
     "output_type": "stream",
     "text": [
      "100%|██████████| 252/252 [00:47<00:00,  5.31it/s, train_loss=0.004171047] \n",
      "100%|██████████| 64/64 [00:04<00:00, 13.94it/s, val_loss=0.003865999] \n"
     ]
    },
    {
     "name": "stdout",
     "output_type": "stream",
     "text": [
      "Epoch: 10, Loss: 0.004171046894043684, Loss: 0.00386599893681705, \n"
     ]
    },
    {
     "name": "stderr",
     "output_type": "stream",
     "text": [
      "100%|██████████| 252/252 [00:45<00:00,  5.55it/s, train_loss=0.0036574102]\n",
      "100%|██████████| 64/64 [00:04<00:00, 15.22it/s, val_loss=0.002804434] \n"
     ]
    },
    {
     "name": "stdout",
     "output_type": "stream",
     "text": [
      "Epoch: 11, Loss: 0.003657410154119134, Loss: 0.0028044339269399643, \n"
     ]
    },
    {
     "name": "stderr",
     "output_type": "stream",
     "text": [
      "100%|██████████| 252/252 [00:46<00:00,  5.40it/s, train_loss=0.0024286527]\n",
      "100%|██████████| 64/64 [00:03<00:00, 16.62it/s, val_loss=0.0024153716]\n"
     ]
    },
    {
     "name": "stdout",
     "output_type": "stream",
     "text": [
      "Epoch: 12, Loss: 0.0024286527186632156, Loss: 0.0024153715930879116, \n"
     ]
    },
    {
     "name": "stderr",
     "output_type": "stream",
     "text": [
      "100%|██████████| 252/252 [00:45<00:00,  5.58it/s, train_loss=0.0021722827]\n",
      "100%|██████████| 64/64 [00:03<00:00, 17.88it/s, val_loss=0.0022139587]\n"
     ]
    },
    {
     "name": "stdout",
     "output_type": "stream",
     "text": [
      "Epoch: 13, Loss: 0.002172282664105296, Loss: 0.002213958650827408, \n"
     ]
    },
    {
     "name": "stderr",
     "output_type": "stream",
     "text": [
      "100%|██████████| 252/252 [00:45<00:00,  5.57it/s, train_loss=0.0019915642]\n",
      "100%|██████████| 64/64 [00:03<00:00, 16.41it/s, val_loss=0.002089707] \n"
     ]
    },
    {
     "name": "stdout",
     "output_type": "stream",
     "text": [
      "Epoch: 14, Loss: 0.0019915641751140356, Loss: 0.0020897069480270147, \n"
     ]
    },
    {
     "name": "stderr",
     "output_type": "stream",
     "text": [
      "100%|██████████| 252/252 [00:44<00:00,  5.71it/s, train_loss=0.0018720557]\n",
      "100%|██████████| 64/64 [00:03<00:00, 19.74it/s, val_loss=0.0018982226]\n"
     ]
    },
    {
     "name": "stdout",
     "output_type": "stream",
     "text": [
      "Epoch: 15, Loss: 0.0018720556981861591, Loss: 0.001898222602903843, \n"
     ]
    },
    {
     "name": "stderr",
     "output_type": "stream",
     "text": [
      "100%|██████████| 252/252 [00:44<00:00,  5.71it/s, train_loss=0.0017282676]\n",
      "100%|██████████| 64/64 [00:03<00:00, 18.35it/s, val_loss=0.001782644] \n"
     ]
    },
    {
     "name": "stdout",
     "output_type": "stream",
     "text": [
      "Epoch: 16, Loss: 0.0017282676417380571, Loss: 0.0017826439579948783, \n"
     ]
    },
    {
     "name": "stderr",
     "output_type": "stream",
     "text": [
      "100%|██████████| 252/252 [00:44<00:00,  5.71it/s, train_loss=0.0016158781]\n",
      "100%|██████████| 64/64 [00:03<00:00, 17.05it/s, val_loss=0.0016766536]\n"
     ]
    },
    {
     "name": "stdout",
     "output_type": "stream",
     "text": [
      "Epoch: 17, Loss: 0.0016158780781552196, Loss: 0.0016766536282375455, \n"
     ]
    },
    {
     "name": "stderr",
     "output_type": "stream",
     "text": [
      "100%|██████████| 252/252 [00:43<00:00,  5.76it/s, train_loss=0.0015232577]\n",
      "100%|██████████| 64/64 [00:03<00:00, 18.34it/s, val_loss=0.0015887149]\n"
     ]
    },
    {
     "name": "stdout",
     "output_type": "stream",
     "text": [
      "Epoch: 18, Loss: 0.0015232576988637447, Loss: 0.0015887148911133409, \n"
     ]
    },
    {
     "name": "stderr",
     "output_type": "stream",
     "text": [
      "100%|██████████| 252/252 [00:43<00:00,  5.81it/s, train_loss=0.0014460951]\n",
      "100%|██████████| 64/64 [00:03<00:00, 19.77it/s, val_loss=0.0015137702]"
     ]
    },
    {
     "name": "stdout",
     "output_type": "stream",
     "text": [
      "Epoch: 19, Loss: 0.0014460950624197721, Loss: 0.001513770199380815, \n"
     ]
    },
    {
     "name": "stderr",
     "output_type": "stream",
     "text": [
      "\n"
     ]
    }
   ],
   "source": [
    "from src.train import train\n",
    "\n",
    "num_epochs = 50\n",
    "\n",
    "state, metrics_history = train(model, num_epochs, train_loader, val_loader)"
   ]
  },
  {
   "cell_type": "code",
   "execution_count": 5,
   "metadata": {},
   "outputs": [
    {
     "data": {
      "image/png": "[encoded data removed]",
      "text/plain": [
       "<Figure size 640x480 with 1 Axes>"
      ]
     },
     "metadata": {},
     "output_type": "display_data"
    }
   ],
   "source": [
    "import matplotlib.pyplot as plt\n",
    "\n",
    "plt.plot(metrics_history['train_loss'], label='train_loss')\n",
    "plt.plot(metrics_history['val_loss'], label='val_loss')\n",
    "plt.show()"
   ]
  },
  {
   "cell_type": "code",
   "execution_count": 13,
   "metadata": {},
   "outputs": [],
   "source": [
    "import torch\n",
    "from src.input_pipeline import create_dataset\n",
    "from tqdm import tqdm\n",
    "\n",
    "dataset = create_dataset()"
   ]
  },
  {
   "cell_type": "code",
   "execution_count": 18,
   "metadata": {},
   "outputs": [
    {
     "name": "stderr",
     "output_type": "stream",
     "text": [
      "100%|██████████| 100/100 [02:49<00:00,  1.69s/it]\n"
     ]
    }
   ],
   "source": [
    "commands ={'target': [], 'pred': []}\n",
    "\n",
    "for i in tqdm(range(len(dataset))[:100]):\n",
    "  grid, u_target = dataset.__getitem__(i)\n",
    "  grid = torch.unsqueeze(grid, 0).numpy()\n",
    "  \n",
    "  u_pred = model.apply({'params': state.params}, grid, train=False)\n",
    "  \n",
    "  commands['target'].append(u_target[0,0])\n",
    "  commands['pred'].append(u_pred[0,0,0])"
   ]
  },
  {
   "cell_type": "code",
   "execution_count": 19,
   "metadata": {},
   "outputs": [
    {
     "name": "stdout",
     "output_type": "stream",
     "text": [
      "{'target': [tensor(0.4000), tensor(0.4000), tensor(0.4000), tensor(0.4000), tensor(0.4000), tensor(0.4000), tensor(0.4000), tensor(0.4000), tensor(0.4000), tensor(0.4000), tensor(0.4000), tensor(0.4000), tensor(0.4000), tensor(0.4000), tensor(0.4000), tensor(0.4000), tensor(0.4000), tensor(0.4000), tensor(0.4000), tensor(0.4000), tensor(0.4000), tensor(0.4000), tensor(0.4000), tensor(0.4000), tensor(0.4000), tensor(0.4000), tensor(0.4000), tensor(0.4000), tensor(0.4000), tensor(0.4000), tensor(0.4000), tensor(0.4000), tensor(0.4000), tensor(0.4000), tensor(0.4000), tensor(0.4000), tensor(0.4000), tensor(0.4000), tensor(0.4000), tensor(0.3810), tensor(0.3582), tensor(0.3316), tensor(0.3316), tensor(0.3354), tensor(0.3316), tensor(0.3354), tensor(0.3316), tensor(0.3354), tensor(0.3316), tensor(0.3354), tensor(0.3316), tensor(0.3354), tensor(0.3316), tensor(0.3316), tensor(0.3316), tensor(0.3316), tensor(0.3354), tensor(0.3354), tensor(0.3354), tensor(0.3354), tensor(0.3354), tensor(0.3354), tensor(0.3354), tensor(0.3316), tensor(0.3354), tensor(0.3316), tensor(0.3240), tensor(0.3051), tensor(0.3013), tensor(0.3013), tensor(0.3051), tensor(0.3051), tensor(0.3051), tensor(0.3051), tensor(0.3051), tensor(0.3089), tensor(0.3013), tensor(0.2937), tensor(0.2747), tensor(0.2633), tensor(0.2595), tensor(0.2481), tensor(0.2443), tensor(0.2405), tensor(0.2329), tensor(0.2329), tensor(0.2291), tensor(0.2177), tensor(0.2025), tensor(0.2025), tensor(0.2063), tensor(0.2063), tensor(0.2025), tensor(0.1949), tensor(0.1645), tensor(0.1607), tensor(0.1607), tensor(0.1607), tensor(0.1607), tensor(0.1607)], 'pred': [Array(0.22473316, dtype=float32), Array(0.22471818, dtype=float32), Array(0.22471818, dtype=float32), Array(0.22473316, dtype=float32), Array(0.22440691, dtype=float32), Array(0.22437769, dtype=float32), Array(0.22439179, dtype=float32), Array(0.22471818, dtype=float32), Array(0.22471143, dtype=float32), Array(0.22439179, dtype=float32), Array(0.2262643, dtype=float32), Array(0.22229524, dtype=float32), Array(0.22193581, dtype=float32), Array(0.22300373, dtype=float32), Array(0.22091222, dtype=float32), Array(0.2225858, dtype=float32), Array(0.22002485, dtype=float32), Array(0.22062145, dtype=float32), Array(0.22070763, dtype=float32), Array(0.221049, dtype=float32), Array(0.22437671, dtype=float32), Array(0.21894185, dtype=float32), Array(0.2189921, dtype=float32), Array(0.21935986, dtype=float32), Array(0.21666962, dtype=float32), Array(0.21929285, dtype=float32), Array(0.21847376, dtype=float32), Array(0.2165601, dtype=float32), Array(0.21736132, dtype=float32), Array(0.21920711, dtype=float32), Array(0.21707174, dtype=float32), Array(0.2161145, dtype=float32), Array(0.21464771, dtype=float32), Array(0.21523573, dtype=float32), Array(0.21568201, dtype=float32), Array(0.2164534, dtype=float32), Array(0.21552972, dtype=float32), Array(0.21510057, dtype=float32), Array(0.21648766, dtype=float32), Array(0.2165571, dtype=float32), Array(0.21174128, dtype=float32), Array(0.210833, dtype=float32), Array(0.21063113, dtype=float32), Array(0.21177727, dtype=float32), Array(0.21064025, dtype=float32), Array(0.21206677, dtype=float32), Array(0.20987326, dtype=float32), Array(0.21145242, dtype=float32), Array(0.21110702, dtype=float32), Array(0.21246937, dtype=float32), Array(0.2112027, dtype=float32), Array(0.21216398, dtype=float32), Array(0.20703048, dtype=float32), Array(0.20690256, dtype=float32), Array(0.20717272, dtype=float32), Array(0.20778912, dtype=float32), Array(0.20791242, dtype=float32), Array(0.20844986, dtype=float32), Array(0.20865907, dtype=float32), Array(0.20880923, dtype=float32), Array(0.2086476, dtype=float32), Array(0.20972294, dtype=float32), Array(0.2094582, dtype=float32), Array(0.20733738, dtype=float32), Array(0.20419827, dtype=float32), Array(0.20409863, dtype=float32), Array(0.20584832, dtype=float32), Array(0.20581175, dtype=float32), Array(0.20600088, dtype=float32), Array(0.20577392, dtype=float32), Array(0.2058186, dtype=float32), Array(0.20533071, dtype=float32), Array(0.20542923, dtype=float32), Array(0.20595683, dtype=float32), Array(0.20594892, dtype=float32), Array(0.20314279, dtype=float32), Array(0.20260233, dtype=float32), Array(0.20248345, dtype=float32), Array(0.20247836, dtype=float32), Array(0.20060305, dtype=float32), Array(0.20083736, dtype=float32), Array(0.20085368, dtype=float32), Array(0.20035884, dtype=float32), Array(0.19997166, dtype=float32), Array(0.1998443, dtype=float32), Array(0.19983557, dtype=float32), Array(0.20029016, dtype=float32), Array(0.20155719, dtype=float32), Array(0.20172645, dtype=float32), Array(0.20164403, dtype=float32), Array(0.1998992, dtype=float32), Array(0.19972022, dtype=float32), Array(0.19930671, dtype=float32), Array(0.19939233, dtype=float32), Array(0.19936582, dtype=float32), Array(0.1992143, dtype=float32), Array(0.19831292, dtype=float32), Array(0.19605674, dtype=float32), Array(0.19797261, dtype=float32), Array(0.19797261, dtype=float32)]}\n"
     ]
    },
    {
     "data": {
      "image/png": "[encoded data removed]",
      "text/plain": [
       "<Figure size 640x480 with 1 Axes>"
      ]
     },
     "metadata": {},
     "output_type": "display_data"
    }
   ],
   "source": [
    "plt.plot(commands['target'], label='u_x (target)')\n",
    "plt.plot(commands['pred'], label='u_x (predicted)')\n",
    "plt.legend()"
   ]
  },
  {
   "cell_type": "code",
   "execution_count": null,
   "metadata": {},
   "outputs": [],
   "source": []
  }
 ],
 "metadata": {
  "kernelspec": {
   "display_name": "base",
   "language": "python",
   "name": "python3"
  },
  "language_info": {
   "codemirror_mode": {
    "name": "ipython",
    "version": 3
   },
   "file_extension": ".py",
   "mimetype": "text/x-python",
   "name": "python",
   "nbconvert_exporter": "python",
   "pygments_lexer": "ipython3",
   "version": "3.10.8"
  },
  "orig_nbformat": 4
 },
 "nbformat": 4,
 "nbformat_minor": 2
}
