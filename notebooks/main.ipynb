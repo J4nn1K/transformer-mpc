{
 "cells": [
  {
   "cell_type": "code",
   "execution_count": 1,
   "metadata": {},
   "outputs": [
    {
     "name": "stderr",
     "output_type": "stream",
     "text": [
      "No GPU/TPU found, falling back to CPU. (Set TF_CPP_MIN_LOG_LEVEL=0 and rerun for more info.)\n"
     ]
    },
    {
     "name": "stdout",
     "output_type": "stream",
     "text": [
      "cpu\n"
     ]
    }
   ],
   "source": [
    "from jax.lib import xla_bridge\n",
    "print(xla_bridge.get_backend().platform)"
   ]
  },
  {
   "cell_type": "code",
   "execution_count": 2,
   "metadata": {},
   "outputs": [],
   "source": [
    "from src.config import config"
   ]
  },
  {
   "cell_type": "code",
   "execution_count": 3,
   "metadata": {},
   "outputs": [],
   "source": [
    "from src.input_pipeline import create_dataloaders\n",
    "\n",
    "train_loader, val_loader = create_dataloaders()"
   ]
  },
  {
   "cell_type": "code",
   "execution_count": 4,
   "metadata": {},
   "outputs": [
    {
     "name": "stderr",
     "output_type": "stream",
     "text": [
      "/home/jannik/miniconda3/lib/python3.10/site-packages/jax/_src/api_util.py:190: SyntaxWarning: Jitted function has static_argnums=(0, 1, 9), but only accepts 8 positional arguments. This warning will be replaced by an error after 2022-08-20 at the earliest.\n",
      "  warnings.warn(f\"Jitted function has {argnums_name}={argnums}, \"\n"
     ]
    }
   ],
   "source": [
    "from src.models import MPCTransformer\n",
    "model_config = config['model']\n",
    "\n",
    "model = MPCTransformer(**model_config)"
   ]
  },
  {
   "cell_type": "code",
   "execution_count": 5,
   "metadata": {},
   "outputs": [],
   "source": [
    "# from src.utils import get_model_output\n",
    "# from src.input_pipeline import create_dataset\n",
    "# from src.train import create_train_state\n",
    "# import jax\n",
    "\n",
    "# init_rng = {'params': jax.random.PRNGKey(0), 'dropout': jax.random.PRNGKey(1)}\n",
    "# state = create_train_state(model, \n",
    "#                            init_rng, \n",
    "#                            config['training']['learning_rate'], \n",
    "#                            config['training']['momentum'])\n",
    "# del init_rng\n",
    "\n",
    "\n",
    "# dataset = create_dataset()\n",
    "\n",
    "# indices = range(50,200)\n",
    "# commands = get_model_output(model, state, dataset, indices)\n",
    "\n",
    "# import matplotlib.pyplot as plt\n",
    "# plt.plot(commands['target'], label='u_x (target)')\n",
    "# plt.plot(commands['pred'], label='u_x (predicted)')\n",
    "# plt.legend()\n",
    "# plt.show()"
   ]
  },
  {
   "cell_type": "code",
   "execution_count": 6,
   "metadata": {},
   "outputs": [
    {
     "name": "stdout",
     "output_type": "stream",
     "text": [
      "Epoch: 1, Train Loss: 0.003934, Val Loss: 0.003061, \n",
      "Epoch: 2, Train Loss: 0.001462, Val Loss: 0.000979, \n"
     ]
    },
    {
     "ename": "KeyboardInterrupt",
     "evalue": "",
     "output_type": "error",
     "traceback": [
      "\u001b[0;31m---------------------------------------------------------------------------\u001b[0m",
      "\u001b[0;31mKeyboardInterrupt\u001b[0m                         Traceback (most recent call last)",
      "Cell \u001b[0;32mIn[6], line 5\u001b[0m\n\u001b[1;32m      1\u001b[0m \u001b[39mfrom\u001b[39;00m \u001b[39msrc\u001b[39;00m\u001b[39m.\u001b[39;00m\u001b[39mtrain\u001b[39;00m \u001b[39mimport\u001b[39;00m train\n\u001b[1;32m      3\u001b[0m num_epochs \u001b[39m=\u001b[39m \u001b[39m10\u001b[39m\n\u001b[0;32m----> 5\u001b[0m state, metrics_history \u001b[39m=\u001b[39m train(model, num_epochs, train_loader, val_loader)\n",
      "File \u001b[0;32m~/research/transformer-mpc/src/train.py:101\u001b[0m, in \u001b[0;36mtrain\u001b[0;34m(model, num_epochs, train_loader, val_loader)\u001b[0m\n\u001b[1;32m     96\u001b[0m \u001b[39mfor\u001b[39;00m grids, commands \u001b[39min\u001b[39;00m train_iterator:   \n\u001b[1;32m     97\u001b[0m   \u001b[39m# total_steps += 1   \u001b[39;00m\n\u001b[1;32m     99\u001b[0m   batch \u001b[39m=\u001b[39m {\u001b[39m'\u001b[39m\u001b[39minputs\u001b[39m\u001b[39m'\u001b[39m: grids\u001b[39m.\u001b[39mnumpy(), \u001b[39m'\u001b[39m\u001b[39mtargets\u001b[39m\u001b[39m'\u001b[39m: commands\u001b[39m.\u001b[39mnumpy()}\n\u001b[0;32m--> 101\u001b[0m   state \u001b[39m=\u001b[39m train_step(state, batch)\n\u001b[1;32m    102\u001b[0m   state \u001b[39m=\u001b[39m compute_metrics(state\u001b[39m=\u001b[39mstate, batch\u001b[39m=\u001b[39mbatch)\n\u001b[1;32m    104\u001b[0m   \u001b[39m# train_iterator.set_postfix(train_loss=state.metrics.loss.compute_value().value)\u001b[39;00m\n",
      "File \u001b[0;32m~/miniconda3/lib/python3.10/site-packages/flax/core/frozen_dict.py:162\u001b[0m, in \u001b[0;36mFrozenDict.tree_unflatten\u001b[0;34m(cls, keys, values)\u001b[0m\n\u001b[1;32m    157\u001b[0m   sorted_keys \u001b[39m=\u001b[39m \u001b[39msorted\u001b[39m(\u001b[39mself\u001b[39m\u001b[39m.\u001b[39m_dict)\n\u001b[1;32m    158\u001b[0m   \u001b[39mreturn\u001b[39;00m \u001b[39mtuple\u001b[39m(\n\u001b[1;32m    159\u001b[0m       [(jax\u001b[39m.\u001b[39mtree_util\u001b[39m.\u001b[39mDictKey(k), \u001b[39mself\u001b[39m\u001b[39m.\u001b[39m_dict[k]) \u001b[39mfor\u001b[39;00m k \u001b[39min\u001b[39;00m sorted_keys]\n\u001b[1;32m    160\u001b[0m   ), \u001b[39mtuple\u001b[39m(sorted_keys)\n\u001b[0;32m--> 162\u001b[0m \u001b[39m@classmethod\u001b[39m\n\u001b[1;32m    163\u001b[0m \u001b[39mdef\u001b[39;00m \u001b[39mtree_unflatten\u001b[39m(\u001b[39mcls\u001b[39m, keys, values):\n\u001b[1;32m    164\u001b[0m   \u001b[39m# data is already deep copied due to tree map mechanism\u001b[39;00m\n\u001b[1;32m    165\u001b[0m   \u001b[39m# we can skip the deep copy in the constructor\u001b[39;00m\n\u001b[1;32m    166\u001b[0m   \u001b[39mreturn\u001b[39;00m \u001b[39mcls\u001b[39m({k: v \u001b[39mfor\u001b[39;00m k, v \u001b[39min\u001b[39;00m \u001b[39mzip\u001b[39m(keys, values)}, __unsafe_skip_copy__\u001b[39m=\u001b[39m\u001b[39mTrue\u001b[39;00m)\n",
      "\u001b[0;31mKeyboardInterrupt\u001b[0m: "
     ]
    }
   ],
   "source": [
    "from src.train import train\n",
    "\n",
    "num_epochs = 10\n",
    "\n",
    "state, metrics_history = train(model, num_epochs, train_loader, val_loader)"
   ]
  },
  {
   "cell_type": "code",
   "execution_count": null,
   "metadata": {},
   "outputs": [],
   "source": [
    "import matplotlib.pyplot as plt\n",
    "\n",
    "plt.plot(metrics_history['train_loss'], label='train_loss')\n",
    "plt.plot(metrics_history['val_loss'], label='val_loss')\n",
    "plt.legend()\n",
    "plt.show()"
   ]
  },
  {
   "cell_type": "code",
   "execution_count": null,
   "metadata": {},
   "outputs": [],
   "source": [
    "import torch\n",
    "from src.input_pipeline import create_dataset\n",
    "from src.utils import get_model_output\n",
    "from tqdm import tqdm\n",
    "\n",
    "dataset = create_dataset()\n",
    "indices = range(len(dataset))\n",
    "\n",
    "commands = get_model_output(model, state, dataset, indices)\n",
    "\n",
    "plt.plot(commands['target'], label='u_x (target)')\n",
    "plt.plot(commands['pred'], label='u_x (predicted)')\n",
    "plt.legend()\n",
    "plt.show()"
   ]
  },
  {
   "cell_type": "code",
   "execution_count": null,
   "metadata": {},
   "outputs": [],
   "source": [
    "from flax.training import train_state, checkpoints\n",
    "import jax\n",
    "\n",
    "CKPT_DIR = '../checkpoints/'\n",
    "\n",
    "checkpoints.save_checkpoint(ckpt_dir=CKPT_DIR, target=state, step=0)\n",
    "restored_state = checkpoints.restore_checkpoint(ckpt_dir=CKPT_DIR, target=state)\n",
    "\n",
    "assert jax.tree_util.tree_all(jax.tree_map(lambda x, y: (x == y).all(), state.params, restored_state.params))"
   ]
  }
 ],
 "metadata": {
  "kernelspec": {
   "display_name": "base",
   "language": "python",
   "name": "python3"
  },
  "language_info": {
   "codemirror_mode": {
    "name": "ipython",
    "version": 3
   },
   "file_extension": ".py",
   "mimetype": "text/x-python",
   "name": "python",
   "nbconvert_exporter": "python",
   "pygments_lexer": "ipython3",
   "version": "3.10.8"
  },
  "orig_nbformat": 4
 },
 "nbformat": 4,
 "nbformat_minor": 2
}
