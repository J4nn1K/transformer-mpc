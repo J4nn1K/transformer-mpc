{
 "cells": [
  {
   "cell_type": "code",
   "execution_count": 1,
   "metadata": {},
   "outputs": [],
   "source": [
    "import pandas as pd"
   ]
  },
  {
   "cell_type": "code",
   "execution_count": 2,
   "metadata": {},
   "outputs": [],
   "source": [
    "cmd_vel_raw = pd.read_csv('data/raw/session_2023-04-12_impossible_obstacle_cmd_vel.csv')\n",
    "local_map_raw = pd.read_csv('data/raw/session_2023-04-12_impossible_obstacle_local_map.csv')"
   ]
  },
  {
   "cell_type": "code",
   "execution_count": 3,
   "metadata": {},
   "outputs": [
    {
     "name": "stdout",
     "output_type": "stream",
     "text": [
      "1721\n",
      "1407\n"
     ]
    }
   ],
   "source": [
    "cmd_vel = pd.DataFrame()\n",
    "local_map = pd.DataFrame()\n",
    "\n",
    "cmd_vel['time'] = pd.to_datetime(cmd_vel_raw['%time'])\n",
    "cmd_vel['cmd_vel'] = cmd_vel_raw[list(cmd_vel_raw.columns[1:])].values.tolist()\n",
    "local_map['time'] = pd.to_datetime(local_map_raw['%time'])\n",
    "local_map['map'] = local_map_raw[list(local_map_raw.columns[15:])].values.tolist()\n",
    "\n",
    "print(len(cmd_vel))\n",
    "print(len(local_map))"
   ]
  },
  {
   "cell_type": "code",
   "execution_count": 4,
   "metadata": {},
   "outputs": [
    {
     "name": "stdout",
     "output_type": "stream",
     "text": [
      "1407\n"
     ]
    }
   ],
   "source": [
    "data = local_map\n",
    "data['cmd_vel'] = None\n",
    "print(len(data))"
   ]
  },
  {
   "cell_type": "code",
   "execution_count": 5,
   "metadata": {},
   "outputs": [
    {
     "name": "stderr",
     "output_type": "stream",
     "text": [
      "/tmp/ipykernel_28612/2437529825.py:3: SettingWithCopyWarning: \n",
      "A value is trying to be set on a copy of a slice from a DataFrame\n",
      "\n",
      "See the caveats in the documentation: https://pandas.pydata.org/pandas-docs/stable/user_guide/indexing.html#returning-a-view-versus-a-copy\n",
      "  local_map['cmd_vel'][i] = cmd_vel['cmd_vel'][idx]\n"
     ]
    }
   ],
   "source": [
    "for i, time in enumerate(local_map['time']):\n",
    "    idx = cmd_vel['time'].sub(time).abs().idxmin()\n",
    "    local_map['cmd_vel'][i] = cmd_vel['cmd_vel'][idx]"
   ]
  },
  {
   "cell_type": "code",
   "execution_count": 6,
   "metadata": {},
   "outputs": [
    {
     "data": {
      "text/html": [
       "<div>\n",
       "<style scoped>\n",
       "    .dataframe tbody tr th:only-of-type {\n",
       "        vertical-align: middle;\n",
       "    }\n",
       "\n",
       "    .dataframe tbody tr th {\n",
       "        vertical-align: top;\n",
       "    }\n",
       "\n",
       "    .dataframe thead th {\n",
       "        text-align: right;\n",
       "    }\n",
       "</style>\n",
       "<table border=\"1\" class=\"dataframe\">\n",
       "  <thead>\n",
       "    <tr style=\"text-align: right;\">\n",
       "      <th></th>\n",
       "      <th>time</th>\n",
       "      <th>map</th>\n",
       "      <th>cmd_vel</th>\n",
       "    </tr>\n",
       "  </thead>\n",
       "  <tbody>\n",
       "    <tr>\n",
       "      <th>0</th>\n",
       "      <td>2023-04-12 22:23:28.834635180</td>\n",
       "      <td>[-1, -1, -1, -1, -1, -1, -1, -1, -1, -1, -1, -...</td>\n",
       "      <td>[-0.0, -0.0, 0.0, 0.0, 0.0, -0.0]</td>\n",
       "    </tr>\n",
       "    <tr>\n",
       "      <th>1</th>\n",
       "      <td>2023-04-12 22:23:28.879526315</td>\n",
       "      <td>[-1, -1, -1, -1, -1, -1, -1, -1, -1, -1, -1, -...</td>\n",
       "      <td>[-0.0, -0.0, 0.0, 0.0, 0.0, -0.0]</td>\n",
       "    </tr>\n",
       "    <tr>\n",
       "      <th>2</th>\n",
       "      <td>2023-04-12 22:23:28.893630684</td>\n",
       "      <td>[-1, -1, -1, -1, -1, -1, -1, -1, -1, -1, -1, -...</td>\n",
       "      <td>[-0.0, -0.0, 0.0, 0.0, 0.0, -0.0]</td>\n",
       "    </tr>\n",
       "    <tr>\n",
       "      <th>3</th>\n",
       "      <td>2023-04-12 22:23:28.923093265</td>\n",
       "      <td>[-1, -1, -1, -1, -1, -1, -1, -1, -1, -1, -1, -...</td>\n",
       "      <td>[-0.0, -0.0, 0.0, 0.0, 0.0, -0.0]</td>\n",
       "    </tr>\n",
       "    <tr>\n",
       "      <th>4</th>\n",
       "      <td>2023-04-12 22:23:28.937227773</td>\n",
       "      <td>[-1, -1, -1, -1, -1, -1, -1, -1, -1, -1, -1, -...</td>\n",
       "      <td>[-0.0, -0.0, 0.0, 0.0, 0.0, -0.0]</td>\n",
       "    </tr>\n",
       "  </tbody>\n",
       "</table>\n",
       "</div>"
      ],
      "text/plain": [
       "                           time  \\\n",
       "0 2023-04-12 22:23:28.834635180   \n",
       "1 2023-04-12 22:23:28.879526315   \n",
       "2 2023-04-12 22:23:28.893630684   \n",
       "3 2023-04-12 22:23:28.923093265   \n",
       "4 2023-04-12 22:23:28.937227773   \n",
       "\n",
       "                                                 map  \\\n",
       "0  [-1, -1, -1, -1, -1, -1, -1, -1, -1, -1, -1, -...   \n",
       "1  [-1, -1, -1, -1, -1, -1, -1, -1, -1, -1, -1, -...   \n",
       "2  [-1, -1, -1, -1, -1, -1, -1, -1, -1, -1, -1, -...   \n",
       "3  [-1, -1, -1, -1, -1, -1, -1, -1, -1, -1, -1, -...   \n",
       "4  [-1, -1, -1, -1, -1, -1, -1, -1, -1, -1, -1, -...   \n",
       "\n",
       "                             cmd_vel  \n",
       "0  [-0.0, -0.0, 0.0, 0.0, 0.0, -0.0]  \n",
       "1  [-0.0, -0.0, 0.0, 0.0, 0.0, -0.0]  \n",
       "2  [-0.0, -0.0, 0.0, 0.0, 0.0, -0.0]  \n",
       "3  [-0.0, -0.0, 0.0, 0.0, 0.0, -0.0]  \n",
       "4  [-0.0, -0.0, 0.0, 0.0, 0.0, -0.0]  "
      ]
     },
     "execution_count": 6,
     "metadata": {},
     "output_type": "execute_result"
    }
   ],
   "source": [
    "data.head()"
   ]
  },
  {
   "cell_type": "code",
   "execution_count": 22,
   "metadata": {},
   "outputs": [
    {
     "name": "stdout",
     "output_type": "stream",
     "text": [
      "torch.Size([1304, 100, 100])\n",
      "torch.Size([1304, 6])\n"
     ]
    }
   ],
   "source": [
    "import torch\n",
    "grids = torch.as_tensor(data['map'].to_list()[103:])  # cut out beginning\n",
    "commands = torch.as_tensor(data['cmd_vel'].to_list()[103:])\n",
    "\n",
    "grids = grids.view((grids.shape[0], 100, 100))\n",
    "grids[grids==100]=1\n",
    "\n",
    "print(grids.shape)\n",
    "print(commands.shape)"
   ]
  },
  {
   "cell_type": "code",
   "execution_count": 23,
   "metadata": {},
   "outputs": [
    {
     "name": "stdout",
     "output_type": "stream",
     "text": [
      "Video saved as videos/impossible_obstacle.avi\n"
     ]
    }
   ],
   "source": [
    "from utils import save_grids_as_video\n",
    "freq_in = 40.0\n",
    "freq_out = 10.0\n",
    "\n",
    "grids_to_save = range(0, grids.shape[0], int(freq_in/freq_out))\n",
    "\n",
    "video_filename = f\"videos/impossible_obstacle.avi\"\n",
    "\n",
    "save_grids_as_video(grids, grids_to_save, video_filename, freq_out)"
   ]
  },
  {
   "cell_type": "code",
   "execution_count": 24,
   "metadata": {},
   "outputs": [
    {
     "data": {
      "image/png": "[encoded data removed]",
      "text/plain": [
       "<Figure size 640x480 with 1 Axes>"
      ]
     },
     "metadata": {},
     "output_type": "display_data"
    }
   ],
   "source": [
    "import matplotlib.pyplot as plt\n",
    "plt.plot(commands[:,0])\n",
    "plt.show()"
   ]
  },
  {
   "cell_type": "code",
   "execution_count": 25,
   "metadata": {},
   "outputs": [],
   "source": [
    "torch.save({grids, commands}, 'data/impossible_obstacle.pt')"
   ]
  },
  {
   "cell_type": "code",
   "execution_count": null,
   "metadata": {},
   "outputs": [],
   "source": [
    "  "
   ]
  }
 ],
 "metadata": {
  "kernelspec": {
   "display_name": "base",
   "language": "python",
   "name": "python3"
  },
  "language_info": {
   "codemirror_mode": {
    "name": "ipython",
    "version": 3
   },
   "file_extension": ".py",
   "mimetype": "text/x-python",
   "name": "python",
   "nbconvert_exporter": "python",
   "pygments_lexer": "ipython3",
   "version": "3.10.8"
  },
  "orig_nbformat": 4
 },
 "nbformat": 4,
 "nbformat_minor": 2
}
