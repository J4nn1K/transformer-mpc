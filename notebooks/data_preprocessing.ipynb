{
 "cells": [
  {
   "cell_type": "code",
   "execution_count": null,
   "metadata": {},
   "outputs": [],
   "source": [
    "import rosbag\n",
    "import numpy as np\n",
    "import cv2"
   ]
  },
  {
   "cell_type": "code",
   "execution_count": null,
   "metadata": {},
   "outputs": [],
   "source": [
    "PATH = '../data/session2023_05_01_impossible_obstacles.bag'\n",
    "bag = rosbag.Bag(PATH)"
   ]
  },
  {
   "cell_type": "code",
   "execution_count": null,
   "metadata": {},
   "outputs": [],
   "source": [
    "bag.get_type_and_topic_info()[1]"
   ]
  },
  {
   "cell_type": "code",
   "execution_count": null,
   "metadata": {},
   "outputs": [],
   "source": [
    "topics = ['/astra/color/image_raw',\n",
    "          '/astra/depth/image_raw',\n",
    "          '/local_map',\n",
    "          '/ridgeback_velocity_controller/cmd_vel']\n",
    "\n",
    "data = {}\n",
    "for topic in topics:\n",
    "  data[topic] = {'time': [], 'data': []}\n",
    "    \n",
    "for topic, msg, time in bag.read_messages(topics=topics):\n",
    "  data[topic]['time'].append(time.to_nsec())\n",
    "  \n",
    "  if topic =='/astra/color/image_raw':\n",
    "    data[topic]['data'].append(\n",
    "      np.frombuffer(msg.data, dtype=np.uint8).reshape(msg.height, msg.width, 3)\n",
    "    )\n",
    "  elif topic == '/astra/depth/image_raw':\n",
    "    data[topic]['data'].append(\n",
    "      np.frombuffer(msg.data, dtype=np.uint16).reshape(msg.height, msg.width)\n",
    "    )\n",
    "  elif topic == '/local_map':\n",
    "    data[topic]['data'].append(\n",
    "      np.array(msg.data).reshape(msg.info.height, msg.info.width)\n",
    "    )\n",
    "  elif topic == '/ridgeback_velocity_controller/cmd_vel':\n",
    "    data[topic]['data'].append(\n",
    "      np.array([msg.linear.x, msg.linear.y, msg.angular.z])\n",
    "    )\n",
    "  else: print('unknown topic')"
   ]
  },
  {
   "cell_type": "code",
   "execution_count": null,
   "metadata": {},
   "outputs": [],
   "source": [
    "import pandas as pd\n",
    "\n",
    "color_images = pd.DataFrame.from_dict(data['/astra/color/image_raw'])\n",
    "depth_images = pd.DataFrame.from_dict(data['/astra/depth/image_raw'])\n",
    "maps = pd.DataFrame.from_dict(data['/local_map'])\n",
    "cmd_vels = pd.DataFrame.from_dict(data['/ridgeback_velocity_controller/cmd_vel'])"
   ]
  },
  {
   "cell_type": "code",
   "execution_count": null,
   "metadata": {},
   "outputs": [],
   "source": [
    "df = pd.DataFrame()\n",
    "\n",
    "df['time'] = color_images['time']\n",
    "df['color_images'] = color_images['data']\n",
    "df['depth_images'] = None\n",
    "df['maps'] = None\n",
    "df['cmd_vels'] = None\n",
    "\n",
    "for i, time in enumerate(df['time']):\n",
    "  # find closest match in depth_images\n",
    "  idx = depth_images['time'].sub(time).abs().idxmin()\n",
    "  df['depth_images'][i] = depth_images['data'][idx]\n",
    "  # find closest match in maps\n",
    "  idx = maps['time'].sub(time).abs().idxmin()\n",
    "  df['maps'][i] = maps['data'][idx]\n",
    "  # find closest\n",
    "  idx = cmd_vels['time'].sub(time).abs().idxmin()\n",
    "  df['cmd_vels'][i] = cmd_vels['data'][idx]"
   ]
  },
  {
   "cell_type": "code",
   "execution_count": null,
   "metadata": {},
   "outputs": [],
   "source": [
    "color_images = np.array(df['color_images'].to_list())\n",
    "\n",
    "depth_images = np.array(df['depth_images'].to_list())\n",
    "depth_images = np.expand_dims(depth_images, axis=-1)\n",
    "depth_images = cv2.normalize(depth_images, None, 0, 255, cv2.NORM_MINMAX, dtype=cv2.CV_8U)\n",
    "\n",
    "maps = np.array(df['maps'].to_list())\n",
    "maps[maps==100]=1\n",
    "\n",
    "cmd_vels = np.array(df['cmd_vels'].to_list())"
   ]
  },
  {
   "cell_type": "code",
   "execution_count": null,
   "metadata": {},
   "outputs": [],
   "source": [
    "print(len(cmd_vels))\n",
    "\n",
    "color_images=color_images[::3]\n",
    "depth_images=depth_images[::3]\n",
    "maps=maps[::3]\n",
    "cmd_vels=cmd_vels[::3]\n",
    "\n",
    "print(len(cmd_vels))"
   ]
  },
  {
   "cell_type": "code",
   "execution_count": null,
   "metadata": {},
   "outputs": [],
   "source": [
    "dataset_name = 'impossible_obstacle'\n",
    "OUT_PATH = f'../data/{dataset_name}.npz'\n",
    "\n",
    "np.savez(OUT_PATH, \n",
    "         color_images=color_images, \n",
    "         depth_images=depth_images,\n",
    "         maps=maps,\n",
    "         cmd_vels=cmd_vels)\n"
   ]
  }
 ],
 "metadata": {
  "kernelspec": {
   "display_name": "Python 3",
   "language": "python",
   "name": "python3"
  },
  "language_info": {
   "codemirror_mode": {
    "name": "ipython",
    "version": 3
   },
   "file_extension": ".py",
   "mimetype": "text/x-python",
   "name": "python",
   "nbconvert_exporter": "python",
   "pygments_lexer": "ipython3",
   "version": "3.8.10"
  },
  "orig_nbformat": 4
 },
 "nbformat": 4,
 "nbformat_minor": 2
}
